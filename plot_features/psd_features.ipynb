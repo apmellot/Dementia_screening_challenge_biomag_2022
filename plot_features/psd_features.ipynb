{
 "cells": [
  {
   "cell_type": "code",
   "execution_count": 1,
   "metadata": {},
   "outputs": [],
   "source": [
    "import numpy as np\n",
    "import pandas as pd\n",
    "import pathlib\n",
    "from sklearn.decomposition import PCA\n",
    "\n",
    "import h5io\n",
    "import matplotlib.pyplot as plt\n",
    "import seaborn as sns\n",
    "\n",
    "%matplotlib qt\n"
   ]
  },
  {
   "cell_type": "code",
   "execution_count": 2,
   "metadata": {},
   "outputs": [],
   "source": [
    "DERIV_ROOT = pathlib.Path('/storage/store3/derivatives/biomag_hokuto_bids')\n",
    "FEATURES_ROOT = DERIV_ROOT\n",
    "BIDS_ROOT = pathlib.Path(\n",
    "    '/storage/store/data/biomag_challenge/Biomag2022/biomag_hokuto_bids'\n",
    ")\n",
    "ROOT = pathlib.Path(\n",
    "    '/storage/store/data/biomag_challenge/Biomag2022/biomag_hokuto'\n",
    ")\n",
    "\n",
    "RANDOM_STATE = 42\n",
    "\n",
    "frequency_bands = {\n",
    "    \"low\": (0.1, 1),\n",
    "    \"delta\": (1, 4),\n",
    "    \"theta\": (4.0, 8.0),\n",
    "    \"alpha\": (8.0, 15.0),\n",
    "    \"beta_low\": (15.0, 26.0),\n",
    "    \"beta_mid\": (26.0, 35.0),\n",
    "    \"beta_high\": (35.0, 49)\n",
    "}\n",
    "# frequency_bands = {\n",
    "#     \"beta_mid\": (26.0, 35.0)\n",
    "# }\n",
    "\n",
    "\n",
    "def get_subjects_labels(all_subjects):\n",
    "    train_subjects = []\n",
    "    train_labels = []\n",
    "    for subject in all_subjects:\n",
    "        if subject.find('control') == 4:\n",
    "            train_labels.append('control')\n",
    "            train_subjects.append(subject)\n",
    "        elif subject.find('mci') == 4:\n",
    "            train_labels.append('mci')\n",
    "            train_subjects.append(subject)\n",
    "        elif subject.find('dementia') == 4:\n",
    "            train_labels.append('dementia')\n",
    "            train_subjects.append(subject)\n",
    "    return train_subjects, train_labels\n",
    "\n",
    "\n",
    "def get_site(labels, subjects):\n",
    "    subjects_A = []\n",
    "    subjects_B = []\n",
    "    age_A = []\n",
    "    age_B = []\n",
    "    for label in labels:\n",
    "        site_info = pd.read_excel(ROOT / 'hokuto_profile.xlsx', sheet_name=label)\n",
    "        for i in range(site_info.shape[0]):\n",
    "            subject = 'sub-' + site_info['ID'].iloc[i][7:]\n",
    "            if site_info['Site'].iloc[i] == 'A' and subject in subjects:\n",
    "                subjects_A.append(subject)\n",
    "                age_A.append(site_info['Age'].iloc[i])\n",
    "            if site_info['Site'].iloc[i] == 'B' and subject in subjects:\n",
    "                subjects_B.append(subject)\n",
    "                age_B.append(site_info['Age'].iloc[i])\n",
    "    return subjects_A, subjects_B, age_A, age_B\n",
    "\n",
    "\n",
    "def get_subjects_age(age, labels):\n",
    "    subjects = []\n",
    "    for label in labels:\n",
    "        site_info = pd.read_excel(ROOT / 'hokuto_profile.xlsx', sheet_name=label)\n",
    "        for i in range(site_info.shape[0]):\n",
    "            if site_info['Age'].iloc[i]>= age:\n",
    "                subjects.append('sub-' + site_info['ID'].iloc[i][7:])\n",
    "    print(len(subjects))\n",
    "    return subjects\n"
   ]
  },
  {
   "cell_type": "code",
   "execution_count": 3,
   "metadata": {},
   "outputs": [
    {
     "name": "stdout",
     "output_type": "stream",
     "text": [
      "101\n"
     ]
    }
   ],
   "source": [
    "all_subjects = get_subjects_age(50, ['control', 'dementia', 'mci'])\n",
    "subjects_A, subjects_B, age_A, age_B = get_site(['control', 'dementia', 'mci'], all_subjects)\n",
    "train_subjects, y = get_subjects_labels(subjects_A + subjects_B)"
   ]
  },
  {
   "cell_type": "markdown",
   "metadata": {},
   "source": [
    "Looking at psd features"
   ]
  },
  {
   "cell_type": "code",
   "execution_count": 4,
   "metadata": {},
   "outputs": [],
   "source": [
    "features = h5io.read_hdf5(FEATURES_ROOT / 'features_features_psd.h5')\n",
    "X_psd = np.concatenate(\n",
    "        [features[sub][None, :] for sub in train_subjects],\n",
    "        axis=0\n",
    ")"
   ]
  },
  {
   "cell_type": "code",
   "execution_count": 5,
   "metadata": {},
   "outputs": [
    {
     "data": {
      "text/plain": [
       "(101, 321)"
      ]
     },
     "execution_count": 5,
     "metadata": {},
     "output_type": "execute_result"
    }
   ],
   "source": [
    "X_psd.shape"
   ]
  },
  {
   "cell_type": "code",
   "execution_count": 6,
   "metadata": {},
   "outputs": [],
   "source": [
    "pca = PCA(n_components=3)\n",
    "X_PCA = pca.fit_transform(X_psd)\n",
    "df = pd.DataFrame({\n",
    "    'x': X_PCA[:, 0],\n",
    "    'y': X_PCA[:, 1],\n",
    "    'label': y,\n",
    "    'site': ['A']*len(subjects_A) + ['B']*len(subjects_B),\n",
    "    'age': age_A + age_B\n",
    "})"
   ]
  },
  {
   "cell_type": "code",
   "execution_count": 7,
   "metadata": {},
   "outputs": [],
   "source": [
    "plt.figure(2)\n",
    "sns.scatterplot(x='x', y='y', data=df, hue='label', style='site', size = 'age', sizes=(40, 400), alpha=0.5)\n",
    "plt.title('PCA of psd features')\n",
    "plt.xlabel('1st component')\n",
    "plt.ylabel('2nd component')\n",
    "plt.show()"
   ]
  },
  {
   "cell_type": "code",
   "execution_count": 8,
   "metadata": {},
   "outputs": [],
   "source": [
    "fig = plt.figure(3)\n",
    "ax = fig.add_subplot(projection = '3d')\n",
    "\n",
    "x_pca = X_PCA[:, 0]\n",
    "y_pca = X_PCA[:, 1]\n",
    "z_pca = X_PCA[:, 2]\n",
    "c = []\n",
    "for label in y:\n",
    "    if label == 'control':\n",
    "        c.append('b')\n",
    "    elif label == 'dementia':\n",
    "        c.append('r')\n",
    "    elif label == 'mci':\n",
    "        c.append('g')\n",
    "s = []\n",
    "for a in age_A + age_B:\n",
    "    s.append(100*((a-50)/(93-50))**2)\n",
    "ax.scatter(x_pca, y_pca, z_pca, c=c, s=s)\n",
    "plt.show()"
   ]
  }
 ],
 "metadata": {
  "interpreter": {
   "hash": "05020e740702a68eda3394a6317e7abf057ed308c5bc3acc3444eb142047300f"
  },
  "kernelspec": {
   "display_name": "Python 3.9.12 ('biomag')",
   "language": "python",
   "name": "python3"
  },
  "language_info": {
   "codemirror_mode": {
    "name": "ipython",
    "version": 3
   },
   "file_extension": ".py",
   "mimetype": "text/x-python",
   "name": "python",
   "nbconvert_exporter": "python",
   "pygments_lexer": "ipython3",
   "version": "3.9.12"
  },
  "orig_nbformat": 4
 },
 "nbformat": 4,
 "nbformat_minor": 2
}
