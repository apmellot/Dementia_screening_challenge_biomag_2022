{
 "cells": [
  {
   "cell_type": "code",
   "execution_count": 1,
   "metadata": {},
   "outputs": [],
   "source": [
    "import numpy as np\n",
    "import pandas as pd\n",
    "import pathlib\n",
    "\n",
    "from scipy.linalg import eigh, pinv\n",
    "from sklearn.base import BaseEstimator, TransformerMixin\n",
    "from sklearn.decomposition import PCA\n",
    "\n",
    "from itertools import combinations_with_replacement\n",
    "import h5io\n",
    "import coffeine\n",
    "\n",
    "from dameeg.procrustes import align_procrustes\n",
    "from dameeg.recenter import align_recenter\n",
    "from dameeg.recenter_rescale import align_recenter_rescale\n",
    "import matplotlib.pyplot as plt\n",
    "import seaborn as sns\n",
    "\n",
    "%matplotlib qt\n"
   ]
  },
  {
   "cell_type": "code",
   "execution_count": 31,
   "metadata": {},
   "outputs": [],
   "source": [
    "DERIV_ROOT = pathlib.Path('/storage/store3/derivatives/biomag_hokuto_bids')\n",
    "FEATURES_ROOT = DERIV_ROOT\n",
    "BIDS_ROOT = pathlib.Path(\n",
    "    '/storage/store/data/biomag_challenge/Biomag2022/biomag_hokuto_bids'\n",
    ")\n",
    "ROOT = pathlib.Path(\n",
    "    '/storage/store/data/biomag_challenge/Biomag2022/biomag_hokuto'\n",
    ")\n",
    "\n",
    "RANDOM_STATE = 42\n",
    "\n",
    "frequency_bands = {\n",
    "    \"low\": (0.1, 1),\n",
    "    \"delta\": (1, 4),\n",
    "    \"theta\": (4.0, 8.0),\n",
    "    \"alpha\": (8.0, 15.0),\n",
    "    \"beta_low\": (15.0, 26.0),\n",
    "    \"beta_mid\": (26.0, 35.0),\n",
    "    \"beta_high\": (35.0, 49)\n",
    "}\n",
    "cross_frequency_bands = []\n",
    "frequency_bands_ = list(frequency_bands)\n",
    "for band1 in list(frequency_bands):\n",
    "    for band2 in frequency_bands_:\n",
    "        cross_frequency_bands.append(band1+band2)\n",
    "    frequency_bands_.remove(band1)\n",
    "\n",
    "\n",
    "def get_names(i, j):\n",
    "    band1 = list(frequency_bands)[i]\n",
    "    band2 = list(frequency_bands)[j]\n",
    "    return(band1+band2)\n",
    "\n",
    "\n",
    "def get_sub_cov(C, i, j):\n",
    "    len_C = C.shape[1]\n",
    "    n_fb = len(list(frequency_bands))\n",
    "    len_sub_C = int(len_C / n_fb)\n",
    "    sub_C = C[:, i*len_sub_C: (i+1)*len_sub_C, j*len_sub_C: (j+1)*len_sub_C]\n",
    "    return list(sub_C)\n",
    "\n",
    "\n",
    "def get_subjects_labels(all_subjects):\n",
    "    train_subjects = []\n",
    "    train_labels = []\n",
    "    for subject in all_subjects:\n",
    "        if subject.find('control') == 4:\n",
    "            train_labels.append('control')\n",
    "            train_subjects.append(subject)\n",
    "        elif subject.find('mci') == 4:\n",
    "            train_labels.append('mci')\n",
    "            train_subjects.append(subject)\n",
    "        elif subject.find('dementia') == 4:\n",
    "            train_labels.append('dementia')\n",
    "            train_subjects.append(subject)\n",
    "    return train_subjects, train_labels\n",
    "\n",
    "\n",
    "def get_site(labels, subjects):\n",
    "    subjects_A = []\n",
    "    subjects_B = []\n",
    "    age_A = []\n",
    "    age_B = []\n",
    "    for label in labels:\n",
    "        site_info = pd.read_excel(ROOT / 'hokuto_profile.xlsx', sheet_name=label)\n",
    "        for i in range(site_info.shape[0]):\n",
    "            subject = 'sub-' + site_info['ID'].iloc[i][7:]\n",
    "            if site_info['Site'].iloc[i] == 'A' and subject in subjects:\n",
    "                subjects_A.append(subject)\n",
    "                age_A.append(site_info['Age'].iloc[i])\n",
    "            if site_info['Site'].iloc[i] == 'B' and subject in subjects:\n",
    "                subjects_B.append(subject)\n",
    "                age_B.append(site_info['Age'].iloc[i])\n",
    "    return subjects_A, subjects_B, age_A, age_B\n",
    "\n",
    "\n",
    "def get_subjects_age(age, labels):\n",
    "    subjects = []\n",
    "    for label in labels:\n",
    "        site_info = pd.read_excel(ROOT / 'hokuto_profile.xlsx', sheet_name=label)\n",
    "        for i in range(site_info.shape[0]):\n",
    "            if site_info['Age'].iloc[i]>= age:\n",
    "                subjects.append('sub-' + site_info['ID'].iloc[i][7:])\n",
    "    print(len(subjects))\n",
    "    return subjects\n",
    "\n",
    "\n",
    "class ProjCommonSpace(BaseEstimator, TransformerMixin):\n",
    "    def __init__(self, n_compo='full', reg=1e-7):\n",
    "        # self.scale = scale = 1 / np.mean([np.trace(x) for x in X])\n",
    "        self.n_compo = n_compo\n",
    "        self.reg = reg\n",
    "\n",
    "    def fit(self, X, y=None):\n",
    "        self.n_compo = len(X[0]) if self.n_compo == 'full' else self.n_compo\n",
    "        self.scale_ = 1 / np.mean([np.trace(x) for x in X])\n",
    "        self.filters_ = []\n",
    "        self.patterns_ = []\n",
    "        C = X.mean(axis=0)\n",
    "        eigvals, eigvecs = eigh(C)\n",
    "        ix = np.argsort(np.abs(eigvals))[::-1]\n",
    "        evecs = eigvecs[:, ix]\n",
    "        evecs = evecs[:, :self.n_compo].T\n",
    "        self.filters_.append(evecs)  # (fb, compo, chan) row vec\n",
    "        self.patterns_.append(pinv(evecs).T)  # (fb, compo, chan)\n",
    "        return self\n",
    "\n",
    "    def transform(self, X):\n",
    "        n_sub, _, _ = X.shape\n",
    "        self.n_compo = len(X[0]) if self.n_compo == 'full' else self.n_compo\n",
    "        Xout = np.empty((n_sub, self.n_compo, self.n_compo))\n",
    "        Xs = self.scale_ * X\n",
    "        filters = self.filters_[0]  # (compo, chan)\n",
    "        for sub in range(n_sub):\n",
    "            Xout[sub] = filters @ Xs[sub] @ filters.T\n",
    "            Xout[sub] += self.reg * np.eye(self.n_compo)\n",
    "        return Xout  # (sub , compo, compo)\n"
   ]
  },
  {
   "cell_type": "markdown",
   "metadata": {},
   "source": [
    "Looking at covariances"
   ]
  },
  {
   "cell_type": "code",
   "execution_count": 155,
   "metadata": {},
   "outputs": [
    {
     "name": "stdout",
     "output_type": "stream",
     "text": [
      "101\n"
     ]
    }
   ],
   "source": [
    "all_subjects = get_subjects_age(50, ['control', 'dementia', 'mci'])\n",
    "subjects_A, subjects_B, age_A, age_B = get_site(['control', 'dementia', 'mci'], all_subjects)\n",
    "# subjects_B.remove('sub-dementia22')\n",
    "# subjects_B.remove('sub-dementia25')\n",
    "# subjects_B.remove('sub-mci3')\n",
    "# subjects_B.remove('sub-mci5')\n",
    "train_subjects, y = get_subjects_labels(subjects_A + subjects_B)\n",
    "rank = 120\n",
    "reg = 1\n",
    "\n",
    "features = h5io.read_hdf5(DERIV_ROOT / 'features_cross_frequency_covs.h5')\n",
    "covs_A = [features[sub]['cross_frequency_covs'] for sub in subjects_A]\n",
    "covs_A = np.array(covs_A)\n",
    "covs_B = [features[sub]['cross_frequency_covs']\n",
    "            for sub in subjects_B]\n",
    "covs_B = np.array(covs_B)\n",
    "covs_A_aligned = np.zeros((covs_A.shape[0],\n",
    "                            len(cross_frequency_bands),\n",
    "                            rank, rank))\n",
    "covs_B_aligned = np.zeros((covs_B.shape[0],\n",
    "                            len(cross_frequency_bands),\n",
    "                            rank, rank))\n",
    "for k, (i, j) in enumerate(list(combinations_with_replacement(range(7), 2))):\n",
    "    proj = ProjCommonSpace(n_compo=rank, reg=reg)\n",
    "    all_covs = np.concatenate(\n",
    "        (get_sub_cov(covs_A, i, j), get_sub_cov(covs_B, i, j))\n",
    "    )\n",
    "    all_covs = proj.fit_transform(all_covs)\n",
    "    covs_A_pca = all_covs[:covs_A.shape[0]]\n",
    "    covs_B_pca = all_covs[covs_A.shape[0]:]\n",
    "    covs_A_aligned[:, k], covs_B_aligned[:, k] = covs_A_pca, covs_B_pca\n",
    "    # (covs_A_aligned[:, i],\n",
    "    #  covs_B_aligned[:, i]) = align_recenter_rescale(covs_A_pca, covs_B_pca)\n",
    "X_A = pd.DataFrame(\n",
    "    {band: list(covs_A_aligned[:, ii]) for ii, band in\n",
    "        enumerate(cross_frequency_bands)})\n",
    "X_B = pd.DataFrame(\n",
    "    {band: list(covs_B_aligned[:, ii]) for ii, band in\n",
    "        enumerate(cross_frequency_bands)})\n",
    "\n",
    "X = pd.concat([X_A, X_B], axis=0)"
   ]
  },
  {
   "cell_type": "code",
   "execution_count": 157,
   "metadata": {},
   "outputs": [
    {
     "data": {
      "text/plain": [
       "(101, 203280)"
      ]
     },
     "execution_count": 157,
     "metadata": {},
     "output_type": "execute_result"
    }
   ],
   "source": [
    "filter_bank_transformer = coffeine.make_filter_bank_transformer(\n",
    "    names=list(cross_frequency_bands),\n",
    "    method='riemann',\n",
    "    projection_params=dict(scale='auto', n_compo=rank, reg=reg)\n",
    ")\n",
    "\n",
    "X_covs = filter_bank_transformer.fit_transform(X)\n",
    "X_covs.shape"
   ]
  },
  {
   "cell_type": "code",
   "execution_count": 158,
   "metadata": {},
   "outputs": [],
   "source": [
    "pca = PCA(n_components=3)\n",
    "X_PCA = pca.fit_transform(X_covs)\n",
    "df = pd.DataFrame({\n",
    "    'x': X_PCA[:, 0],\n",
    "    'y': X_PCA[:, 1],\n",
    "    'label': y,\n",
    "    'site': ['A']*len(subjects_A) + ['B']*len(subjects_B),\n",
    "    'age': age_A + age_B\n",
    "})"
   ]
  },
  {
   "cell_type": "code",
   "execution_count": 159,
   "metadata": {},
   "outputs": [],
   "source": [
    "plt.figure(0)\n",
    "sns.scatterplot(x='x', y='y', data=df, hue='label', style='site', size='age', sizes=(40, 400), alpha=0.5)\n",
    "plt.title('PCA of covariances')\n",
    "plt.xlabel('1st component')\n",
    "plt.ylabel('2nd component')\n",
    "plt.xlim(-0.000153, -0.00009)\n",
    "plt.ylim((-0.00008, 0))\n",
    "plt.show()"
   ]
  },
  {
   "cell_type": "code",
   "execution_count": 136,
   "metadata": {},
   "outputs": [],
   "source": [
    "\n",
    "fig = plt.figure(1)\n",
    "ax = fig.add_subplot(projection = '3d')\n",
    "\n",
    "x_pca = X_PCA[:, 0]\n",
    "y_pca = X_PCA[:, 1]\n",
    "z_pca = X_PCA[:, 2]\n",
    "c = []\n",
    "for label in y:\n",
    "    if label == 'control':\n",
    "        c.append('b')\n",
    "    elif label == 'dementia':\n",
    "        c.append('r')\n",
    "    elif label == 'mci':\n",
    "        c.append('g')\n",
    "s = []\n",
    "for a in age_A + age_B:\n",
    "    s.append(100*((a-40)/(93-40))**2)\n",
    "ax.scatter(x_pca, y_pca, z_pca, c=c, s=s)\n",
    "plt.xlim(-0.00032, 0)\n",
    "plt.ylim(-0.00015, 0.0002)\n",
    "plt.show()"
   ]
  },
  {
   "cell_type": "code",
   "execution_count": 126,
   "metadata": {},
   "outputs": [
    {
     "data": {
      "text/plain": [
       "0.009553630348103425"
      ]
     },
     "execution_count": 126,
     "metadata": {},
     "output_type": "execute_result"
    }
   ],
   "source": [
    "X_PCA[:, 1].max()"
   ]
  },
  {
   "cell_type": "code",
   "execution_count": null,
   "metadata": {},
   "outputs": [],
   "source": []
  }
 ],
 "metadata": {
  "interpreter": {
   "hash": "05020e740702a68eda3394a6317e7abf057ed308c5bc3acc3444eb142047300f"
  },
  "kernelspec": {
   "display_name": "Python 3.9.12 ('biomag')",
   "language": "python",
   "name": "python3"
  },
  "language_info": {
   "codemirror_mode": {
    "name": "ipython",
    "version": 3
   },
   "file_extension": ".py",
   "mimetype": "text/x-python",
   "name": "python",
   "nbconvert_exporter": "python",
   "pygments_lexer": "ipython3",
   "version": "3.9.12"
  },
  "orig_nbformat": 4
 },
 "nbformat": 4,
 "nbformat_minor": 2
}
