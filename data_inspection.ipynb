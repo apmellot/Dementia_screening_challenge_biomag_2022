{
 "cells": [
  {
   "cell_type": "code",
   "execution_count": 58,
   "metadata": {},
   "outputs": [],
   "source": [
    "import numpy as np\n",
    "from pathlib import Path\n",
    "from pymatreader import read_mat\n",
    "from collections import Counter\n",
    "\n",
    "import mne\n",
    "\n",
    "%matplotlib qt\n"
   ]
  },
  {
   "cell_type": "code",
   "execution_count": null,
   "metadata": {},
   "outputs": [],
   "source": [
    "\n",
    "# base path for biomag 2022 challenge\n",
    "base_path = Path('/storage/store/data/biomag_challenge/Biomag2022/biomag_hokuto')"
   ]
  },
  {
   "cell_type": "markdown",
   "metadata": {},
   "source": [
    "### Create info from .mat"
   ]
  },
  {
   "cell_type": "code",
   "execution_count": 59,
   "metadata": {},
   "outputs": [
    {
     "name": "stdout",
     "output_type": "stream",
     "text": [
      "dict_keys(['type', 'Nsamples', 'Fsample', 'timeOnset', 'trials', 'channels', 'data', 'fname', 'path', 'sensors', 'fiducials', 'transform', 'condlist', 'montage'])\n"
     ]
    }
   ],
   "source": [
    "info_path = base_path / 'training/control/control_01_25/hokuto_control10.mat'\n",
    "infos = read_mat(info_path)\n",
    "infos = infos['D']\n",
    "print(infos.keys())"
   ]
  },
  {
   "cell_type": "code",
   "execution_count": 60,
   "metadata": {},
   "outputs": [
    {
     "name": "stdout",
     "output_type": "stream",
     "text": [
      "sfreq: 2000\n",
      "infos: {'fname': 'R:\\\\biomag\\\\training\\\\control\\\\hokuto_control10.dat', 'dim': array([   186, 600000], dtype=int32), 'dtype': 16, 'be': 0, 'offset': 0, 'pos': array([1, 1], dtype=uint8), 'scl_slope': array([], dtype=uint8), 'scl_inter': array([], dtype=uint8), 'permission': 'rw'}\n",
      "Data file name: R:\\biomag\\training\\control\\hokuto_control10.dat\n"
     ]
    }
   ],
   "source": [
    "sfreq = infos['Fsample']\n",
    "print(f\"sfreq: {sfreq}\")\n",
    "print(f\"infos: {infos['data']}\")\n",
    "data_fname = infos['data']['fname']\n",
    "print(f\"Data file name: {data_fname}\")"
   ]
  },
  {
   "cell_type": "code",
   "execution_count": 61,
   "metadata": {},
   "outputs": [
    {
     "name": "stdout",
     "output_type": "stream",
     "text": [
      "dict_keys(['bad', 'label', 'type', 'X_plot2D', 'Y_plot2D', 'units'])\n",
      "Counter({'MEGGRAD': 160, 'Other': 14, 'REFMAG': 12})\n"
     ]
    }
   ],
   "source": [
    "# sensor_position = data['sensors']\n",
    "# fiducials = data['fiducials']\n",
    "print(infos['channels'].keys())\n",
    "ch_names = infos['channels']['label']\n",
    "ch_types = infos['channels']['type']\n",
    "print(Counter(ch_types))\n",
    "# correspondance dict for channel types\n",
    "type_dict = {'MEGGRAD': 'grad',\n",
    "             'Other'  : 'misc',\n",
    "             'REFMAG' : 'ref_meg',\n",
    "             'EEG'    : 'eeg'}\n",
    "ch_types = [type_dict[ch] for ch in ch_types]"
   ]
  },
  {
   "cell_type": "code",
   "execution_count": 62,
   "metadata": {},
   "outputs": [
    {
     "data": {
      "text/html": [
       "<table class=\"table table-hover table-striped table-sm table-responsive small\">\n",
       "    <tr>\n",
       "        <th>Measurement date</th>\n",
       "        \n",
       "        <td>Unknown</td>\n",
       "        \n",
       "    </tr>\n",
       "    <tr>\n",
       "        <th>Experimenter</th>\n",
       "        \n",
       "        <td>Unknown</td>\n",
       "        \n",
       "    </tr>\n",
       "        <th>Participant</th>\n",
       "        \n",
       "        <td>Unknown</td>\n",
       "        \n",
       "    </tr>\n",
       "    <tr>\n",
       "        <th>Digitized points</th>\n",
       "        \n",
       "        <td>0 points</td>\n",
       "        \n",
       "    </tr>\n",
       "    <tr>\n",
       "        <th>Good channels</th>\n",
       "        <td>160 Gradiometers, 14 misc, 12 Reference Magnetometers</td>\n",
       "    </tr>\n",
       "    <tr>\n",
       "        <th>Bad channels</th>\n",
       "        <td>None</td>\n",
       "    </tr>\n",
       "    <tr>\n",
       "        <th>EOG channels</th>\n",
       "        <td>Not available</td>\n",
       "    </tr>\n",
       "    <tr>\n",
       "        <th>ECG channels</th>\n",
       "        <td>Not available</td>\n",
       "    \n",
       "    <tr>\n",
       "        <th>Sampling frequency</th>\n",
       "        <td>2000.00 Hz</td>\n",
       "    </tr>\n",
       "    \n",
       "    \n",
       "    <tr>\n",
       "        <th>Highpass</th>\n",
       "        <td>0.00 Hz</td>\n",
       "    </tr>\n",
       "    \n",
       "    \n",
       "    <tr>\n",
       "        <th>Lowpass</th>\n",
       "        <td>1000.00 Hz</td>\n",
       "    </tr>\n",
       "    \n",
       "    \n",
       "</table>"
      ],
      "text/plain": [
       "<Info | 7 non-empty values\n",
       " bads: []\n",
       " ch_names: AG001, AG002, AG003, AG004, AG005, AG006, AG007, AG008, AG009, ...\n",
       " chs: 160 Gradiometers, 14 misc, 12 Reference Magnetometers\n",
       " custom_ref_applied: False\n",
       " highpass: 0.0 Hz\n",
       " lowpass: 1000.0 Hz\n",
       " meas_date: unspecified\n",
       " nchan: 186\n",
       " projs: []\n",
       " sfreq: 2000.0 Hz\n",
       ">"
      ]
     },
     "execution_count": 62,
     "metadata": {},
     "output_type": "execute_result"
    }
   ],
   "source": [
    "info = mne.create_info(ch_names=ch_names, ch_types=ch_types, sfreq=sfreq)\n",
    "info"
   ]
  },
  {
   "cell_type": "markdown",
   "metadata": {},
   "source": [
    "### Load data from .dat and create MNE.raw object"
   ]
  },
  {
   "cell_type": "code",
   "execution_count": 63,
   "metadata": {},
   "outputs": [
    {
     "name": "stdout",
     "output_type": "stream",
     "text": [
      "Counter({'fT': 172, 'uV': 14})\n",
      "[[-4.4437852e-12 -4.2047303e-12 -4.3959203e-12 ... -3.7867504e-12\n",
      "  -2.0988523e-12 -4.5314399e-12]\n",
      " [-4.1064496e-12 -2.3293535e-12 -1.6518077e-12 ... -5.9621583e-12\n",
      "  -6.7268114e-12 -2.6437424e-12]\n",
      " [-1.3329157e-12 -3.7167413e-12 -2.7221691e-12 ... -5.4609095e-12\n",
      "  -3.3670506e-12 -2.7577808e-12]\n",
      " ...\n",
      " [-3.4250690e-12 -2.7168140e-12 -3.4067124e-12 ... -4.7772077e-12\n",
      "  -4.3340496e-12 -4.9926734e-12]\n",
      " [-4.5256429e-12 -4.1327384e-12 -3.3934938e-12 ... -3.0314798e-12\n",
      "  -2.4162246e-12 -4.6026000e-12]\n",
      " [-4.5409514e-12 -5.2908424e-12 -3.7973080e-12 ... -3.2286915e-13\n",
      "  -2.4891797e-13 -3.4066993e-13]]\n"
     ]
    }
   ],
   "source": [
    "#data_path = '/storage/store/data/biomag_challenge/Biomag2022/biomag_hokuto/traininig/control/control_01_25/hokuto_control10.dat'\n",
    "data_path = Path(str(info_path).replace('mat', 'dat'))\n",
    "data = np.fromfile(data_path, dtype=\"float32\")  # Ca doit pas etre le bon dtype\n",
    "n_ch, n_times = len(ch_types), infos['Nsamples']\n",
    "data = np.reshape(data, (n_ch, n_times))\n",
    "\n",
    "# rescale\n",
    "print(Counter(infos['channels']['units']))\n",
    "units = np.array(infos['channels']['units'])\n",
    "data[units == 'fT'] *= 1e-15\n",
    "data[units == 'uV'] *= 1e-6 \n",
    "print(data)"
   ]
  },
  {
   "cell_type": "code",
   "execution_count": 64,
   "metadata": {},
   "outputs": [
    {
     "name": "stdout",
     "output_type": "stream",
     "text": [
      "Creating RawArray with float64 data, n_channels=186, n_times=600000\n",
      "    Range : 0 ... 599999 =      0.000 ...   300.000 secs\n",
      "Ready.\n",
      "Opening raw-browser...\n",
      "For Dark-Mode \"qdarkstyle\" has to be installed! You can install it with `pip install qdarkstyle`\n",
      "Using pyopengl with version 3.1.6\n",
      "Closing raw-browser...\n",
      "Channels marked as bad:\n",
      "none\n",
      "Closing raw-browser...\n",
      "Channels marked as bad:\n",
      "none\n"
     ]
    },
    {
     "name": "stderr",
     "output_type": "stream",
     "text": [
      "TypeError: SettingsDialog.closeEvent() takes 1 positional argument but 2 were given\n"
     ]
    }
   ],
   "source": [
    "raw = mne.io.RawArray(data, info)\n",
    "raw.plot(theme='light');"
   ]
  },
  {
   "cell_type": "code",
   "execution_count": 55,
   "metadata": {},
   "outputs": [
    {
     "name": "stdout",
     "output_type": "stream",
     "text": [
      "Effective window size : 2.048 (s)\n",
      "Effective window size : 2.048 (s)\n"
     ]
    },
    {
     "name": "stderr",
     "output_type": "stream",
     "text": [
      "/var/folders/m5/45fck2kd7gg40pz1zs96bxlw0000gn/T/ipykernel_62655/3341777298.py:1: RuntimeWarning: Channel locations not available. Disabling spatial colors.\n",
      "  raw.plot_psd();\n"
     ]
    }
   ],
   "source": [
    "raw.plot_psd();"
   ]
  },
  {
   "cell_type": "code",
   "execution_count": null,
   "metadata": {},
   "outputs": [],
   "source": []
  },
  {
   "cell_type": "code",
   "execution_count": null,
   "metadata": {},
   "outputs": [],
   "source": []
  }
 ],
 "metadata": {
  "interpreter": {
   "hash": "05bf8c057f2425df99ff1877e6886e8086c3184bb43c9addabd55dc9a9335ae4"
  },
  "kernelspec": {
   "display_name": "Python 3 (ipykernel)",
   "language": "python",
   "name": "python3"
  },
  "language_info": {
   "codemirror_mode": {
    "name": "ipython",
    "version": 3
   },
   "file_extension": ".py",
   "mimetype": "text/x-python",
   "name": "python",
   "nbconvert_exporter": "python",
   "pygments_lexer": "ipython3",
   "version": "3.10.4"
  }
 },
 "nbformat": 4,
 "nbformat_minor": 2
}
